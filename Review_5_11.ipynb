{
  "nbformat": 4,
  "nbformat_minor": 0,
  "metadata": {
    "colab": {
      "name": "Review 5-11.ipynb",
      "provenance": []
    },
    "kernelspec": {
      "name": "python3",
      "display_name": "Python 3"
    },
    "language_info": {
      "name": "python"
    }
  },
  "cells": [
    {
      "cell_type": "code",
      "execution_count": null,
      "metadata": {
        "colab": {
          "base_uri": "https://localhost:8080/"
        },
        "id": "afm16mEGJ2Jn",
        "outputId": "80926d70-4a1e-40ff-9a38-1ef3445ea2c7"
      },
      "outputs": [
        {
          "output_type": "stream",
          "name": "stdout",
          "text": [
            "THIS IS MY STRING\n",
            "this is my string\n",
            "t\n",
            "ti\n",
            "ti sm tig\n",
            "this is a long string\n",
            "this is my\n",
            "t\n",
            "h\n",
            "i\n",
            "s\n",
            " \n",
            "i\n",
            "s\n",
            " \n",
            "m\n",
            "y\n",
            "[1, 15, 3, 'hello', [4, 5, True]]\n",
            "(4, 4, 'hello', (2, 10))\n",
            "range(10, 20, 3)\n",
            "10\n",
            "13\n",
            "16\n",
            "19\n",
            "{1, 2, 3, 5, 'hello'}\n",
            "value1\n",
            "hello\n",
            "bye\n",
            "hellobye\n"
          ]
        }
      ],
      "source": [
        "# Boolean opperators (and or > >= < <= ==) and Arithmetic opperators (+-*/%//)\n",
        "# variables are empty containers\n",
        "h3_t5 = '' \n",
        "\n",
        "# strings are a collection fo charecters ' \"\n",
        "mystr = 'this is my string'\n",
        "\n",
        "print(mystr.upper())\n",
        "print(mystr)\n",
        "\n",
        "#indexing is how we get specific items from a collection\n",
        "print(mystr[0])\n",
        "print(mystr[0:3:2])\n",
        "print(mystr[::2])\n",
        "\n",
        "if len(mystr) > 8:\n",
        "  print('this is a long string')\n",
        "elif len(mystr) == 0:\n",
        "  print('this is an empty string')\n",
        "else:\n",
        "  print('this is a small string')\n",
        "\n",
        "while len(mystr) > 10:\n",
        "  mystr = mystr[:-1]\n",
        "\n",
        "print(mystr)\n",
        "\n",
        "for char in mystr:\n",
        "  print(char)\n",
        "\n",
        "#lists are a collection of items and are mutable\n",
        "mylist = [1, 2, 3, 'hello', [4,5, True]]\n",
        "mylist[1] = 15\n",
        "print(mylist)\n",
        "\n",
        "#tuples are an immutable collection of items\n",
        "mytuple = (4, 4, 'hello', (2,10))\n",
        "print(mytuple)\n",
        "\n",
        "myrange = range(10)\n",
        "myrange = range(10, 20)\n",
        "myrange = range(10, 20, 3)\n",
        "print(myrange)\n",
        "for num in myrange:\n",
        "  print(num)\n",
        "\n",
        "#sets are an unorderd collection of objects where no value can repeat\n",
        "myset = set()\n",
        "myset1 = {1,2,3,'hello',5,2}\n",
        "print(myset1)\n",
        "\n",
        "#dictionaries are collection key:value pairs\n",
        "\n",
        "mydict = {}\n",
        "mydict = {'key1':'value1', 1:[1,2,3]}\n",
        "print(mydict['key1'])\n",
        "\n",
        "def function_name(argument1, argument2):\n",
        "  print(argument1)\n",
        "  print(argument2)\n",
        "  return argument1+argument2\n",
        "\n",
        "print(function_name('hello','bye'))\n",
        "\n",
        "\n",
        "#dataframes\n",
        "# dffiterd = df[df['animals'] == 'ducks']\n",
        "# columnaslist = list(df['animals'])\n",
        "\n"
      ]
    }
  ]
}