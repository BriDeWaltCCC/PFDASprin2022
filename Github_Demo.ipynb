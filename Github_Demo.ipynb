{
  "nbformat": 4,
  "nbformat_minor": 0,
  "metadata": {
    "colab": {
      "name": "Github Demo.ipynb",
      "provenance": [],
      "authorship_tag": "ABX9TyN9/ZYWnNbpaS70a+gO92Tl",
      "include_colab_link": true
    },
    "kernelspec": {
      "name": "python3",
      "display_name": "Python 3"
    },
    "language_info": {
      "name": "python"
    }
  },
  "cells": [
    {
      "cell_type": "markdown",
      "metadata": {
        "id": "view-in-github",
        "colab_type": "text"
      },
      "source": [
        "<a href=\"https://colab.research.google.com/github/BriDeWaltCCC/PFDASpring2022/blob/main/Github_Demo.ipynb\" target=\"_parent\"><img src=\"https://colab.research.google.com/assets/colab-badge.svg\" alt=\"Open In Colab\"/></a>"
      ]
    },
    {
      "cell_type": "code",
      "execution_count": 1,
      "metadata": {
        "colab": {
          "base_uri": "https://localhost:8080/"
        },
        "id": "sQYcrp-hgNMh",
        "outputId": "ec5f9c7f-040b-4136-e094-b662b4e11385"
      },
      "outputs": [
        {
          "output_type": "stream",
          "name": "stdout",
          "text": [
            "enter something10\n",
            "10\n"
          ]
        }
      ],
      "source": [
        "print(input('enter something'))"
      ]
    }
  ]
}